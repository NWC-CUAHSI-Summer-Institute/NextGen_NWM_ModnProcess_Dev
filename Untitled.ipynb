{
 "cells": [
  {
   "cell_type": "code",
   "execution_count": null,
   "metadata": {},
   "outputs": [],
   "source": [
    "forcings = pd.read_csv('G071_60_cleaned_2019_2020.csv')\n",
    "\n",
    "model_spinup_period = 365*1*24\n",
    "\n",
    "forcings_spinup = forcings.iloc[:model_spinup_period]\n",
    "forcings_run = forcings.iloc[model_spinup_period:]\n",
    "\n",
    "for t in forcings_spinup.index.values:\n",
    "    cfe_lower.timestep_rainfall_input_m = forcings.loc['precip_rate',t]\n",
    "    cfe_lower.run_cfe()\n",
    "    \n",
    "model_output =[]\n",
    "for t in forcings_run.index.values:\n",
    "    cfe_lower.timestep_rainfall_input_m = forcings.loc['precip_rate',t]\n",
    "    cfe_lower.run_cfe()\n",
    "    model_output.append(cfe1.flow)"
   ]
  }
 ],
 "metadata": {
  "kernelspec": {
   "display_name": "Python 3",
   "language": "python",
   "name": "python3"
  },
  "language_info": {
   "codemirror_mode": {
    "name": "ipython",
    "version": 3
   },
   "file_extension": ".py",
   "mimetype": "text/x-python",
   "name": "python",
   "nbconvert_exporter": "python",
   "pygments_lexer": "ipython3",
   "version": "3.7.3"
  }
 },
 "nbformat": 4,
 "nbformat_minor": 4
}
